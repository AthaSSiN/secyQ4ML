{
  "nbformat": 4,
  "nbformat_minor": 0,
  "metadata": {
    "colab": {
      "name": "polyReg.ipynb",
      "provenance": [],
      "collapsed_sections": [],
      "authorship_tag": "ABX9TyP1J/dbjmyQJ3XE9mOQs0OL",
      "include_colab_link": true
    },
    "kernelspec": {
      "name": "python3",
      "display_name": "Python 3"
    }
  },
  "cells": [
    {
      "cell_type": "markdown",
      "metadata": {
        "id": "view-in-github",
        "colab_type": "text"
      },
      "source": [
        "<a href=\"https://colab.research.google.com/github/AthaSSiN/secyQ4ML/blob/master/polyReg.ipynb\" target=\"_parent\"><img src=\"https://colab.research.google.com/assets/colab-badge.svg\" alt=\"Open In Colab\"/></a>"
      ]
    },
    {
      "cell_type": "code",
      "metadata": {
        "id": "S271iNad7FgJ",
        "colab_type": "code",
        "colab": {}
      },
      "source": [
        "%matplotlib inline\n",
        "import numpy as np\n",
        "import matplotlib.pyplot as plt"
      ],
      "execution_count": 0,
      "outputs": []
    },
    {
      "cell_type": "code",
      "metadata": {
        "id": "a2aV1qX171-V",
        "colab_type": "code",
        "outputId": "3d43ae51-94ca-4ff6-eeae-f38f2d50c8ea",
        "colab": {
          "base_uri": "https://localhost:8080/",
          "height": 725
        }
      },
      "source": [
        "dataPoints = 50\n",
        "lb = 0\n",
        "ub = 20\n",
        "np.random.seed(1)\n",
        "\n",
        "x = ub*np.random.rand(dataPoints)\n",
        "\n",
        "#assigning xsin(x) to be the generator function\n",
        "def f(x):\n",
        "  return x*np.sin(x)\n",
        "\n",
        "y = f(x)\n",
        "\n",
        "print(x)\n",
        "print(y)\n",
        "\n",
        "plt.scatter(x,y)\n",
        "plt.show()"
      ],
      "execution_count": 317,
      "outputs": [
        {
          "output_type": "stream",
          "text": [
            "[8.34044009e+00 1.44064899e+01 2.28749635e-03 6.04665145e+00\n",
            " 2.93511782e+00 1.84677190e+00 3.72520423e+00 6.91121454e+00\n",
            " 7.93534948e+00 1.07763347e+01 8.38389029e+00 1.37043900e+01\n",
            " 4.08904499e+00 1.75623487e+01 5.47751864e-01 1.34093502e+01\n",
            " 8.34609605e+00 1.11737966e+01 2.80773877e+00 3.96202978e+00\n",
            " 1.60148914e+01 1.93652315e+01 6.26848356e+00 1.38464523e+01\n",
            " 1.75277830e+01 1.78921333e+01 1.70088423e+00 7.81095665e-01\n",
            " 3.39660839e+00 1.75628501e+01 1.96693668e+00 8.42215250e+00\n",
            " 1.91577906e+01 1.06633057e+01 1.38375423e+01 6.31031262e+00\n",
            " 1.37300186e+01 1.66925134e+01 3.65765547e-01 1.50028863e+01\n",
            " 1.97772218e+01 1.49633131e+01 5.60887984e+00 1.57855866e+01\n",
            " 2.06452013e+00 8.95787052e+00 1.81719101e+01 5.87228297e+00\n",
            " 5.75550677e+00 2.60057144e+00]\n",
            "[ 7.37289952e+00  1.38871542e+01  5.23263497e-06 -1.41693848e+00\n",
            "  6.01731126e-01  1.77688973e+00 -2.05274139e+00  4.06069227e+00\n",
            "  7.90909508e+00 -1.05183827e+01  7.23406694e+00  1.24409086e+01\n",
            " -3.32002213e+00 -1.68608624e+01  2.85252365e-01  1.00118041e+01\n",
            "  7.35571315e+00 -1.09968081e+01  9.20058226e-01 -2.89800282e+00\n",
            " -4.83860689e+00  9.54943525e+00 -9.21543208e-02  1.32654452e+01\n",
            " -1.69871134e+01 -1.46305886e+01  1.68651260e+00  5.49936589e-01\n",
            " -8.56830598e-01 -1.68588779e+01  1.81461149e+00  7.09891970e+00\n",
            "  5.81203285e+00 -1.00800740e+01  1.32210430e+01  1.71160831e-01\n",
            "  1.26076413e+01 -1.39052528e+01  1.30821280e-01  9.72325731e+00\n",
            "  1.58261745e+01  1.01408561e+01 -3.50193183e+00 -1.22409920e+00\n",
            "  1.81796322e+00  4.03217843e+00 -1.13930747e+01 -2.34560545e+00\n",
            " -2.89806460e+00  1.33932452e+00]\n"
          ],
          "name": "stdout"
        },
        {
          "output_type": "display_data",
          "data": {
            "image/png": "[encoded data removed]",
            "text/plain": [
              "<Figure size 432x288 with 1 Axes>"
            ]
          },
          "metadata": {
            "tags": []
          }
        }
      ]
    },
    {
      "cell_type": "code",
      "metadata": {
        "id": "gH094nKY8x3e",
        "colab_type": "code",
        "colab": {}
      },
      "source": [
        "n = 14 #maximum degree of the polynomial"
      ],
      "execution_count": 0,
      "outputs": []
    },
    {
      "cell_type": "code",
      "metadata": {
        "id": "Shu4MqgA-pIB",
        "colab_type": "code",
        "outputId": "53a0a948-b28f-4bea-a8d8-a275e430cbde",
        "colab": {
          "base_uri": "https://localhost:8080/",
          "height": 1000
        }
      },
      "source": [
        "X = [[i**j for j in range(n+1)] for i in x] # X is such that each row of X contains the all the powers from 0 to n of the corresp value in x\n",
        "X = np.reshape(X, (dataPoints,n+1)) #converting into a numpy array\n",
        "print(X)\n"
      ],
      "execution_count": 319,
      "outputs": [
        {
          "output_type": "stream",
          "text": [
            "[[1.00000000e+00 8.34044009e+00 6.95629410e+01 5.80185542e+02\n",
            "  4.83900276e+03 4.03594126e+04 3.36615263e+05 2.80751944e+06\n",
            "  2.34159477e+07 1.95299309e+08 1.62888219e+09 1.35855943e+10\n",
            "  1.13309835e+11 9.45053893e+11 7.88216538e+12]\n",
            " [1.00000000e+00 1.44064899e+01 2.07546950e+02 2.99002304e+03\n",
            "  4.30757366e+04 6.20570163e+05 8.94023776e+06 1.28797445e+08\n",
            "  1.85551908e+09 2.67315169e+10 3.85107327e+11 5.54804481e+12\n",
            "  7.99278513e+13 1.15147978e+15 1.65887818e+16]\n",
            " [1.00000000e+00 2.28749635e-03 5.23263954e-06 1.19696438e-08\n",
            "  2.73805165e-11 6.26328315e-14 1.43272373e-16 3.27735031e-19\n",
            "  7.49692685e-22 1.71491928e-24 3.92287159e-27 8.97355442e-30\n",
            "  2.05269730e-32 4.69553756e-35 1.07410250e-37]\n",
            " [1.00000000e+00 6.04665145e+00 3.65619938e+01 2.21077633e+02\n",
            "  1.33677939e+03 8.08303904e+03 4.88753198e+04 2.95532023e+05\n",
            "  1.78697914e+06 1.08052400e+07 6.53355201e+07 3.95061118e+08\n",
            "  2.38879688e+09 1.44442221e+10 8.73391767e+10]\n",
            " [1.00000000e+00 2.93511782e+00 8.61491660e+00 2.52857952e+01\n",
            "  7.42167880e+01 2.17835017e+02 6.39371438e+02 1.87663050e+03\n",
            "  5.50813161e+03 1.61670152e+04 4.74520945e+04 1.39277488e+05\n",
            "  4.08795836e+05 1.19986394e+06 3.52174203e+06]\n",
            " [1.00000000e+00 1.84677190e+00 3.41056643e+00 6.29853824e+00\n",
            "  1.16319634e+01 2.14815831e+01 3.96715839e+01 7.32643662e+01\n",
            "  1.35302572e+02 2.49872988e+02 4.61458412e+02 8.52208426e+02\n",
            "  1.57383457e+03 2.90651345e+03 5.36766736e+03]\n",
            " [1.00000000e+00 3.72520423e+00 1.38771465e+01 5.16952049e+01\n",
            "  1.92575196e+02 7.17381934e+02 2.67239421e+03 9.95521423e+03\n",
            "  3.70852061e+04 1.38149967e+05 5.14636840e+05 1.91712733e+06\n",
            "  7.14169084e+06 2.66042569e+07 9.91062903e+07]\n",
            " [1.00000000e+00 6.91121454e+00 4.77648864e+01 3.30113378e+02\n",
            "  2.28148438e+03 1.57678280e+04 1.08974842e+05 7.53148513e+05\n",
            "  5.20517096e+06 3.59740532e+07 2.48624400e+08 1.71829657e+09\n",
            "  1.18755162e+10 8.20742403e+10 5.67232683e+11]\n",
            " [1.00000000e+00 7.93534948e+00 6.29697714e+01 4.99687143e+02\n",
            "  3.96519212e+03 3.14651852e+04 2.49687241e+05 1.98135552e+06\n",
            "  1.57227485e+07 1.24765504e+08 9.90057880e+08 7.85645529e+09\n",
            "  6.23437184e+10 4.94719194e+11 3.92576970e+12]\n",
            " [1.00000000e+00 1.07763347e+01 1.16129389e+02 1.25144916e+03\n",
            "  1.34860350e+04 1.45330027e+05 1.56612501e+06 1.68770872e+07\n",
            "  1.81873141e+08 1.95992583e+09 2.11208167e+10 2.27604990e+11\n",
            "  2.45274754e+12 2.64316284e+13 2.84836074e+14]\n",
            " [1.00000000e+00 8.38389029e+00 7.02896164e+01 5.89300432e+02\n",
            "  4.94063017e+03 4.14217013e+04 3.47274999e+05 2.91151549e+06\n",
            "  2.44098265e+07 2.04649307e+08 1.71575734e+09 1.43847213e+10\n",
            "  1.20599925e+11 1.01109654e+12 8.47692246e+12]\n",
            " [1.00000000e+00 1.37043900e+01 1.87810305e+02 2.57382567e+03\n",
            "  3.52727108e+04 4.83390986e+05 6.62457860e+06 9.07858088e+07\n",
            "  1.24416413e+09 1.70505105e+10 2.33666845e+11 3.20226158e+12\n",
            "  4.38850416e+13 6.01417726e+14 8.24206307e+15]\n",
            " [1.00000000e+00 4.08904499e+00 1.67202890e+01 6.83700139e+01\n",
            "  2.79568063e+02 1.14316639e+03 4.67445880e+03 1.91140724e+04\n",
            "  7.81583019e+04 3.19592813e+05 1.30682939e+06 5.34368419e+06\n",
            "  2.18505651e+07 8.93479438e+07 3.65347763e+08]\n",
            " [1.00000000e+00 1.75623487e+01 3.08436093e+02 5.41686222e+03\n",
            "  9.51328234e+04 1.67075582e+06 2.93423963e+07 5.15321397e+08\n",
            "  9.05025408e+09 1.58943718e+11 2.79142501e+12 4.90239794e+13\n",
            "  8.60976223e+14 1.51207647e+16 2.65556142e+17]\n",
            " [1.00000000e+00 5.47751864e-01 3.00032104e-01 1.64343144e-01\n",
            "  9.00192637e-02 4.93082195e-02 2.70086691e-02 1.47940489e-02\n",
            "  8.10346784e-03 4.43868961e-03 2.43130051e-03 1.33174939e-03\n",
            "  7.29468208e-04 3.99567571e-04 2.18863882e-04]\n",
            " [1.00000000e+00 1.34093502e+01 1.79810673e+02 2.41114428e+03\n",
            "  3.23318781e+04 4.33549476e+05 5.81361675e+06 7.79568230e+07\n",
            "  1.04535034e+09 1.40174688e+10 1.87965148e+11 2.52049050e+12\n",
            "  3.37981398e+13 4.53211092e+14 6.07726625e+15]\n",
            " [1.00000000e+00 8.34609605e+00 6.96573192e+01 5.81366677e+02\n",
            "  4.85214212e+03 4.04964442e+04 3.37987213e+05 2.82087374e+06\n",
            "  2.35432832e+07 1.96494503e+08 1.63996199e+09 1.36872803e+10\n",
            "  1.14235356e+11 9.53419253e+11 7.95732866e+12]\n",
            " [1.00000000e+00 1.11737966e+01 1.24853730e+02 1.39509018e+03\n",
            "  1.55884538e+04 1.74182212e+05 1.94627660e+06 2.17472988e+07\n",
            "  2.42999893e+08 2.71523137e+09 3.03394430e+10 3.39006764e+11\n",
            "  3.78799261e+12 4.23262589e+13 4.72945006e+14]\n",
            " [1.00000000e+00 2.80773877e+00 7.88339701e+00 2.21345194e+01\n",
            "  6.21479484e+01 1.74495204e+02 4.89936951e+02 1.37561497e+03\n",
            "  3.86236749e+03 1.08445190e+04 3.04485764e+04 8.54916484e+04\n",
            "  2.40038216e+05 6.73964606e+05 1.89231655e+06]\n",
            " [1.00000000e+00 3.96202978e+00 1.56976800e+01 6.21946756e+01\n",
            "  2.46417157e+02 9.76312115e+02 3.86817768e+03 1.53258352e+04\n",
            "  6.07214153e+04 2.40580056e+05 9.53185346e+05 3.77654873e+06\n",
            "  1.49627985e+07 5.92830534e+07 2.34881223e+08]\n",
            " [1.00000000e+00 1.60148914e+01 2.56476746e+02 4.10744722e+03\n",
            "  6.57803211e+04 1.05346470e+06 1.68711227e+07 2.70189197e+08\n",
            "  4.32705064e+09 6.92972460e+10 1.10978787e+12 1.77731321e+13\n",
            "  2.84634781e+14 4.55839509e+15 7.30022022e+16]\n",
            " [1.00000000e+00 1.93652315e+01 3.75012192e+02 7.26219791e+03\n",
            "  1.40634144e+05 2.72341275e+06 5.27395185e+07 1.02131299e+09\n",
            "  1.97779624e+10 3.83004821e+11 7.41697703e+12 1.43631477e+14\n",
            "  2.78145681e+15 5.38635551e+16 1.04308021e+18]\n",
            " [1.00000000e+00 6.26848356e+00 3.92938862e+01 2.46313080e+02\n",
            "  1.54400949e+03 9.67859812e+03 6.06701332e+04 3.80309733e+05\n",
            "  2.38396531e+06 1.49438474e+07 9.36752615e+07 5.87201837e+08\n",
            "  3.68086506e+09 2.30734422e+10 1.44635493e+11]\n",
            " [1.00000000e+00 1.38464523e+01 1.91724242e+02 2.65470057e+03\n",
            "  3.67581848e+04 5.08970454e+05 7.04743511e+06 9.75819742e+07\n",
            "  1.35116415e+09 1.87088300e+10 2.59050923e+11 3.58693625e+12\n",
            "  4.96663417e+13 6.87702632e+14 9.52224170e+15]\n",
            " [1.00000000e+00 1.75277830e+01 3.07223179e+02 5.38494122e+03\n",
            "  9.43860814e+04 1.65437876e+06 2.89975919e+07 5.08263500e+08\n",
            "  8.90873236e+09 1.56150328e+11 2.73696907e+12 4.79730001e+13\n",
            "  8.40860338e+14 1.47384176e+16 2.58331786e+17]\n",
            " [1.00000000e+00 1.78921333e+01 3.20128433e+02 5.72778059e+03\n",
            "  1.02482214e+05 1.83362542e+06 3.28074704e+07 5.86995633e+08\n",
            "  1.05026041e+10 1.87913992e+11 3.36218219e+12 6.01566119e+13\n",
            "  1.07633012e+15 1.92578419e+16 3.44563874e+17]\n",
            " [1.00000000e+00 1.70088423e+00 2.89300716e+00 4.92067024e+00\n",
            "  8.36949040e+00 1.42355342e+01 2.42129956e+01 4.11835023e+01\n",
            "  7.00483695e+01 1.19144167e+02 2.02650434e+02 3.44684927e+02\n",
            "  5.86269156e+02 9.97175961e+02 1.69608086e+03]\n",
            " [1.00000000e+00 7.81095665e-01 6.10110437e-01 4.76554618e-01\n",
            "  3.72234746e-01 2.90750946e-01 2.27104304e-01 1.77390187e-01\n",
            "  1.38558706e-01 1.08227605e-01 8.45361127e-02 6.60307911e-02\n",
            "  5.15763647e-02 4.02860749e-02 3.14672784e-02]\n",
            " [1.00000000e+00 3.39660839e+00 1.15369486e+01 3.91864963e+01\n",
            "  1.33101182e+02 4.52092592e+02 1.53558149e+03 5.21576898e+03\n",
            "  1.77159247e+04 6.01740585e+04 2.04387712e+05 6.94225017e+05\n",
            "  2.35801052e+06 8.00923832e+06 2.72042461e+07]\n",
            " [1.00000000e+00 1.75628501e+01 3.08453703e+02 5.41732613e+03\n",
            "  9.51436866e+04 1.67099430e+06 2.93474224e+07 5.15424380e+08\n",
            "  9.05232110e+09 1.58984558e+11 2.79222196e+12 4.90393756e+13\n",
            "  8.61271202e+14 1.51263770e+16 2.65662291e+17]\n",
            " [1.00000000e+00 1.96693668e+00 3.86883989e+00 7.60976308e+00\n",
            "  1.49679221e+01 2.94409549e+01 5.79084941e+01 1.13902341e+02\n",
            "  2.24038692e+02 4.40669920e+02 8.66769828e+02 1.70488136e+03\n",
            "  3.35339369e+03 6.59591303e+03 1.29737433e+04]\n",
            " [1.00000000e+00 8.42215250e+00 7.09326527e+01 5.97405619e+02\n",
            "  5.03144122e+03 4.23755653e+04 3.56893473e+05 3.00581126e+06\n",
            "  2.53154008e+07 2.13210166e+08 1.79568853e+09 1.51235627e+10\n",
            "  1.27372951e+11 1.07275442e+12 9.03490131e+12]\n",
            " [1.00000000e+00 1.91577906e+01 3.67020941e+02 7.03131033e+03\n",
            "  1.34704371e+05 2.58063813e+06 4.94393250e+07 9.47148235e+08\n",
            "  1.81452676e+10 3.47623236e+11 6.65969317e+12 1.27585007e+14\n",
            "  2.44424685e+15 4.68263694e+16 8.97089779e+17]\n",
            " [1.00000000e+00 1.06633057e+01 1.13706088e+02 1.21248278e+03\n",
            "  1.29290745e+04 1.37866674e+05 1.47011449e+06 1.56762803e+07\n",
            "  1.67160969e+08 1.78248851e+09 1.90072199e+10 2.02679796e+11\n",
            "  2.16123663e+12 2.30459268e+13 2.45745763e+14]\n",
            " [1.00000000e+00 1.38375423e+01 1.91477576e+02 2.64957906e+03\n",
            "  3.66636622e+04 5.07334976e+05 7.02026918e+06 9.71432716e+07\n",
            "  1.34422413e+09 1.86007582e+10 2.57388778e+11 3.56162810e+12\n",
            "  4.92841794e+13 6.81971916e+14 9.43681523e+15]\n",
            " [1.00000000e+00 6.31031262e+00 3.98200454e+01 2.51276935e+02\n",
            "  1.58563601e+03 1.00058589e+04 6.31400980e+04 3.98433757e+05\n",
            "  2.51424156e+06 1.58656503e+07 1.00117213e+08 6.31770914e+08\n",
            "  3.98667197e+09 2.51571464e+10 1.58749459e+11]\n",
            " [1.00000000e+00 1.37300186e+01 1.88513409e+02 2.58829261e+03\n",
            "  3.55373056e+04 4.87927865e+05 6.69925863e+06 9.19809453e+07\n",
            "  1.26290009e+09 1.73396416e+10 2.38073601e+11 3.26875496e+12\n",
            "  4.48800662e+13 6.16204142e+14 8.46049431e+15]\n",
            " [1.00000000e+00 1.66925134e+01 2.78640005e+02 4.65120203e+03\n",
            "  7.76402523e+04 1.29601096e+06 2.16336803e+07 3.61120499e+08\n",
            "  6.02800878e+09 1.00622618e+11 1.67964440e+12 2.80374866e+13\n",
            "  4.68016123e+14 7.81236542e+15 1.30408015e+17]\n",
            " [1.00000000e+00 3.65765547e-01 1.33784435e-01 4.89337371e-02\n",
            "  1.78982751e-02 6.54657239e-03 2.39451063e-03 8.75829490e-04\n",
            "  3.20348252e-04 1.17172354e-04 4.28576100e-05 1.56758372e-05\n",
            "  5.73368116e-06 2.09718302e-06 7.67077296e-07]\n",
            " [1.00000000e+00 1.50028863e+01 2.25086597e+02 3.37694863e+03\n",
            "  5.06639763e+04 7.60105876e+05 1.14037820e+07 1.71089645e+08\n",
            "  2.56683849e+09 3.85099861e+10 5.77760942e+11 8.66808172e+12\n",
            "  1.30046245e+14 1.95106902e+15 2.92716667e+16]\n",
            " [1.00000000e+00 1.97772218e+01 3.91138501e+02 7.73563289e+03\n",
            "  1.52989327e+05 3.02570385e+06 5.98400161e+07 1.18346927e+09\n",
            "  2.34057342e+10 4.62900397e+11 9.15488381e+12 1.81058167e+14\n",
            "  3.58082753e+15 7.08188202e+16 1.40059951e+18]\n",
            " [1.00000000e+00 1.49633131e+01 2.23900739e+02 3.35029685e+03\n",
            "  5.01315407e+04 7.50133939e+05 1.12244890e+07 1.67955543e+08\n",
            "  2.51317138e+09 3.76053701e+10 5.62700927e+11 8.41987015e+12\n",
            "  1.25989153e+14 1.88521514e+15 2.82090644e+16]\n",
            " [1.00000000e+00 5.60887984e+00 3.14595331e+01 1.76452741e+02\n",
            "  9.89702221e+02 5.55112084e+03 3.11355698e+04 1.74635670e+05\n",
            "  9.79510487e+05 5.49395662e+06 3.08149426e+07 1.72837310e+08\n",
            "  9.69423704e+08 5.43738107e+09 3.04976171e+10]\n",
            " [1.00000000e+00 1.57855866e+01 2.49184743e+02 3.93352734e+03\n",
            "  6.20930363e+04 9.80175000e+05 1.54726373e+07 2.44244656e+08\n",
            "  3.85554516e+09 6.08620419e+10 9.60743031e+11 1.51658923e+13\n",
            "  2.39402505e+14 3.77910898e+15 5.96554519e+16]\n",
            " [1.00000000e+00 2.06452013e+00 4.26224337e+00 8.79948725e+00\n",
            "  1.81667186e+01 3.75055562e+01 7.74309759e+01 1.59857808e+02\n",
            "  3.30029664e+02 6.81352885e+02 1.40666675e+03 2.90409182e+03\n",
            "  5.99555602e+03 1.23779461e+04 2.55545189e+04]\n",
            " [1.00000000e+00 8.95787052e+00 8.02434443e+01 7.18810385e+02\n",
            "  6.43901036e+03 5.76798211e+04 5.16688369e+05 4.62842751e+06\n",
            "  4.14608544e+07 3.71400965e+08 3.32696176e+09 2.98024927e+10\n",
            "  2.66966871e+11 2.39145466e+12 2.14223412e+13]\n",
            " [1.00000000e+00 1.81719101e+01 3.30218315e+02 6.00069753e+03\n",
            "  1.09044136e+05 1.98154023e+06 3.60083708e+07 6.54340876e+08\n",
            "  1.18906235e+10 2.16075342e+11 3.92650167e+12 7.13520353e+13\n",
            "  1.29660277e+15 2.35617489e+16 4.28161982e+17]\n",
            " [1.00000000e+00 5.87228297e+00 3.44837073e+01 2.02498087e+02\n",
            "  1.18912607e+03 6.98288474e+03 4.10054751e+04 2.40795753e+05\n",
            "  1.41402080e+06 8.30353026e+06 4.87606793e+07 2.86336507e+08\n",
            "  1.68144899e+09 9.87394427e+09 5.79825948e+10]\n",
            " [1.00000000e+00 5.75550677e+00 3.31258582e+01 1.90656101e+02\n",
            "  1.09732248e+03 6.31564697e+03 3.63497489e+04 2.09211226e+05\n",
            "  1.20411663e+06 6.93030141e+06 3.98873967e+07 2.29572182e+08\n",
            "  1.32130425e+09 7.60477554e+09 4.37693371e+10]\n",
            " [1.00000000e+00 2.60057144e+00 6.76297183e+00 1.75875914e+01\n",
            "  4.57377879e+01 1.18944385e+02 3.09323371e+02 8.04417526e+02\n",
            "  2.09194524e+03 5.44025306e+03 1.41477668e+04 3.67922782e+04\n",
            "  9.56809480e+04 2.48825141e+05 6.47087555e+05]]\n"
          ],
          "name": "stdout"
        }
      ]
    },
    {
      "cell_type": "code",
      "metadata": {
        "id": "e-Gjbk1SBcOX",
        "colab_type": "code",
        "outputId": "634927d3-c2f5-4c82-b6f0-543b1d2e015a",
        "colab": {
          "base_uri": "https://localhost:8080/",
          "height": 88
        }
      },
      "source": [
        "#for a single variable polynomial regression, we have the formula weights = (X^T*X)^-1*X^T*y\n",
        "weights = np.dot(np.dot(np.linalg.inv(np.dot(X.T , X)),(X.T)),y)\n",
        "print(weights)"
      ],
      "execution_count": 320,
      "outputs": [
        {
          "output_type": "stream",
          "text": [
            "[ 4.51986328e-02  1.00368957e+01 -2.48776324e+01  2.41692382e+01\n",
            " -1.12072211e+01  2.76606942e+00 -3.79058906e-01  2.72008626e-02\n",
            " -6.07501479e-04 -4.39318565e-05  2.69104908e-06  3.67187903e-08\n",
            " -7.20827587e-09  2.27778528e-10 -2.41998697e-12]\n"
          ],
          "name": "stdout"
        }
      ]
    },
    {
      "cell_type": "code",
      "metadata": {
        "id": "31nRlmI7B3r6",
        "colab_type": "code",
        "outputId": "3fcde349-10b2-494d-c7da-ddbd415ebc67",
        "colab": {
          "base_uri": "https://localhost:8080/",
          "height": 265
        }
      },
      "source": [
        "pts = np.linspace(lb,ub, num = dataPoints) # generating a line of points to plot data points\n",
        "fx = []\n",
        "for i in pts:\n",
        "  res = 0\n",
        "  for j in range(n+1):\n",
        "    res += weights[j]*i**j  #applying our calculated weights to the variables\n",
        "  fx.append(res)\n",
        "plt.scatter(x,y)\n",
        "plt.plot(pts,fx)\n",
        "plt.show()"
      ],
      "execution_count": 321,
      "outputs": [
        {
          "output_type": "display_data",
          "data": {
            "image/png": "[encoded data removed]",
            "text/plain": [
              "<Figure size 432x288 with 1 Axes>"
            ]
          },
          "metadata": {
            "tags": []
          }
        }
      ]
    },
    {
      "cell_type": "code",
      "metadata": {
        "id": "JgCrKUeRX9LA",
        "colab_type": "code",
        "colab": {}
      },
      "source": [
        "from sklearn.linear_model import LinearRegression\n",
        "from sklearn.preprocessing import PolynomialFeatures\n",
        "from sklearn.pipeline import make_pipeline"
      ],
      "execution_count": 0,
      "outputs": []
    },
    {
      "cell_type": "code",
      "metadata": {
        "id": "mdEerMV1aQYm",
        "colab_type": "code",
        "outputId": "aaa557d8-b548-42dc-b0a6-a4a2b9bd89d6",
        "colab": {
          "base_uri": "https://localhost:8080/",
          "height": 501
        }
      },
      "source": [
        "pts = np.reshape(pts, (dataPoints, 1))\n",
        "x = np.reshape(x, (dataPoints, 1))\n",
        "\n",
        "model = make_pipeline(PolynomialFeatures(n), LinearRegression()) #using sklearn to perform polynomial regression\n",
        "model.fit(x, y)\n",
        "y_plot = model.predict(pts)\n",
        "\n",
        "plt.rcParams[\"figure.figsize\"] = (8, 8)\n",
        "plt.plot(pts, y_plot, color='red', linewidth=4, label = 'sklearn') #sklearn results\n",
        "plt.plot(pts, fx,  linestyle='-.', color = 'blue', label='myModel') #my results\n",
        "plt.scatter(x,y)\n",
        "plt.legend()\n",
        "plt.show"
      ],
      "execution_count": 334,
      "outputs": [
        {
          "output_type": "execute_result",
          "data": {
            "text/plain": [
              "<function matplotlib.pyplot.show>"
            ]
          },
          "metadata": {
            "tags": []
          },
          "execution_count": 334
        },
        {
          "output_type": "display_data",
          "data": {
            "image/png": "[encoded data removed]",
            "text/plain": [
              "<Figure size 576x576 with 1 Axes>"
            ]
          },
          "metadata": {
            "tags": []
          }
        }
      ]
    }
  ]
}